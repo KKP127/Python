{
 "cells": [
  {
   "cell_type": "code",
   "execution_count": null,
   "metadata": {},
   "outputs": [],
   "source": [
    "#while loop"
   ]
  },
  {
   "cell_type": "code",
   "execution_count": null,
   "metadata": {},
   "outputs": [],
   "source": [
    "number=2\n",
    "while number <= 10:\n",
    "    print(number)\n",
    "    number += 2"
   ]
  },
  {
   "cell_type": "code",
   "execution_count": null,
   "metadata": {},
   "outputs": [],
   "source": [
    "number=3\n",
    "while number <= 10:\n",
    "    print(number)\n",
    "    number += 3"
   ]
  },
  {
   "cell_type": "code",
   "execution_count": null,
   "metadata": {},
   "outputs": [],
   "source": [
    "#Req-Message-Tell me your name and i will repeat is Back"
   ]
  },
  {
   "cell_type": "code",
   "execution_count": 14,
   "metadata": {},
   "outputs": [],
   "source": [
    "message=\"\\nInput your name here and i will show it back\"#creating empty sring\n",
    "message+=\"\\nEnter NA to stop the programme\"#adding additional string"
   ]
  },
  {
   "cell_type": "code",
   "execution_count": 15,
   "metadata": {},
   "outputs": [
    {
     "name": "stdout",
     "output_type": "stream",
     "text": [
      "\n",
      "Input your name here and i will show it back\n",
      "Enter NA to stop the programmekamal\n",
      "kamal\n"
     ]
    }
   ],
   "source": [
    "print(input(message))#printing the message"
   ]
  },
  {
   "cell_type": "code",
   "execution_count": null,
   "metadata": {},
   "outputs": [],
   "source": [
    "#creating while loopfor programme"
   ]
  },
  {
   "cell_type": "markdown",
   "metadata": {},
   "source": [
    "message1=\"\""
   ]
  },
  {
   "cell_type": "code",
   "execution_count": 13,
   "metadata": {},
   "outputs": [
    {
     "name": "stdout",
     "output_type": "stream",
     "text": [
      "\n",
      "Input your name here and i will show it back\n",
      "Enter NA to stop the programmekamal\n",
      "kamal\n",
      "\n",
      "Input your name here and i will show it back\n",
      "Enter NA to stop the programmekumar\n",
      "kumar\n",
      "\n",
      "Input your name here and i will show it back\n",
      "Enter NA to stop the programmeNA\n",
      "NA\n"
     ]
    }
   ],
   "source": [
    "message1=\"\"\n",
    "while message1!=\"NA\":\n",
    "   message1=input(message)\n",
    "   print(message1)\n",
    "    "
   ]
  },
  {
   "cell_type": "code",
   "execution_count": 57,
   "metadata": {},
   "outputs": [],
   "source": [
    "my_age=\"\\nEnter your age\"# using break in While loop\n",
    "my_age=\"\\nYou are not eligible,if age is less than 18:your age\""
   ]
  },
  {
   "cell_type": "code",
   "execution_count": 58,
   "metadata": {},
   "outputs": [
    {
     "name": "stdout",
     "output_type": "stream",
     "text": [
      "\n",
      "You are not eligible,if age is less than 18:your age20\n",
      "your age is 20\n",
      "\n",
      "You are not eligible,if age is less than 18:your age10\n"
     ]
    }
   ],
   "source": [
    "while True:\n",
    "    details=int(input(my_age))\n",
    "    \n",
    "    if details<=18:\n",
    "        break\n",
    "    else:\n",
    "     print( f\"your age is {details}\") "
   ]
  },
  {
   "cell_type": "code",
   "execution_count": 75,
   "metadata": {},
   "outputs": [
    {
     "name": "stdout",
     "output_type": "stream",
     "text": [
      "2\n",
      "4\n",
      "5\n",
      "7\n",
      "8\n",
      "10\n",
      "11\n",
      "13\n",
      "14\n",
      "16\n",
      "17\n",
      "19\n",
      "20\n",
      "22\n",
      "23\n",
      "25\n",
      "26\n",
      "28\n",
      "29\n"
     ]
    }
   ],
   "source": [
    "my_day=1#using continue\n",
    "while my_day <30:\n",
    "    my_day +=1\n",
    "    if my_day%3==0:\n",
    "        continue\n",
    "    print(my_day)"
   ]
  },
  {
   "cell_type": "code",
   "execution_count": null,
   "metadata": {},
   "outputs": [],
   "source": []
  }
 ],
 "metadata": {
  "kernelspec": {
   "display_name": "Python 3",
   "language": "python",
   "name": "python3"
  },
  "language_info": {
   "codemirror_mode": {
    "name": "ipython",
    "version": 3
   },
   "file_extension": ".py",
   "mimetype": "text/x-python",
   "name": "python",
   "nbconvert_exporter": "python",
   "pygments_lexer": "ipython3",
   "version": "3.8.3"
  }
 },
 "nbformat": 4,
 "nbformat_minor": 4
}
