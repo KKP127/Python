{
 "cells": [
  {
   "cell_type": "code",
   "execution_count": 1,
   "metadata": {},
   "outputs": [],
   "source": [
    "# create a new python Dictionary"
   ]
  },
  {
   "cell_type": "code",
   "execution_count": 2,
   "metadata": {},
   "outputs": [],
   "source": [
    "person={}"
   ]
  },
  {
   "cell_type": "code",
   "execution_count": 11,
   "metadata": {},
   "outputs": [],
   "source": [
    "person['fname']='kamal'#adding key-value pairs in Dictonary\n",
    "person['lname']='pandey'\n",
    "person['age']=21\n",
    "person['spouse']='single'\n",
    "person['child']=['A','B','C']"
   ]
  },
  {
   "cell_type": "code",
   "execution_count": 12,
   "metadata": {},
   "outputs": [
    {
     "name": "stdout",
     "output_type": "stream",
     "text": [
      "{'fname': 'kamal', 'lname': 'pandey', 'age': 21, 'spouse': 'single', 'child': ['A', 'B', 'C']}\n"
     ]
    }
   ],
   "source": [
    "print(person)#print dictionary person"
   ]
  },
  {
   "cell_type": "code",
   "execution_count": 13,
   "metadata": {},
   "outputs": [
    {
     "name": "stdout",
     "output_type": "stream",
     "text": [
      "pandey\n"
     ]
    }
   ],
   "source": [
    "print(person['lname'])#getting values by key"
   ]
  },
  {
   "cell_type": "code",
   "execution_count": 36,
   "metadata": {},
   "outputs": [
    {
     "name": "stdout",
     "output_type": "stream",
     "text": [
      "fname\n",
      "y\n",
      "\n",
      "lname\n",
      "y\n",
      "\n",
      "age\n",
      "y\n",
      "\n",
      "spouse\n",
      "y\n",
      "\n",
      "child\n",
      "y\n",
      "\n"
     ]
    }
   ],
   "source": [
    "for x,y in person.items():#looping a dictionary\n",
    "    print(x)\n",
    "    print('y\\n')"
   ]
  },
  {
   "cell_type": "code",
   "execution_count": 16,
   "metadata": {},
   "outputs": [
    {
     "name": "stdout",
     "output_type": "stream",
     "text": [
      "fname\n",
      "lname\n",
      "age\n",
      "spouse\n",
      "child\n"
     ]
    }
   ],
   "source": [
    "for x in person.keys():# loop to get all key values\n",
    "    print(x)\n",
    "    "
   ]
  },
  {
   "cell_type": "code",
   "execution_count": 25,
   "metadata": {},
   "outputs": [
    {
     "name": "stdout",
     "output_type": "stream",
     "text": [
      "kamal\n",
      "pandey\n",
      "21\n",
      "single\n",
      "['A', 'B', 'C']\n"
     ]
    }
   ],
   "source": [
    "for y in person.values():#loop to get all values\n",
    "    print(y)"
   ]
  },
  {
   "cell_type": "code",
   "execution_count": 24,
   "metadata": {},
   "outputs": [
    {
     "name": "stdout",
     "output_type": "stream",
     "text": [
      " his fname\n",
      " his lname\n",
      " his age\n",
      " his spouse\n",
      " his child\n"
     ]
    }
   ],
   "source": [
    "for x in person.keys():#formatiing Keys\n",
    "    print(f' his {x}')"
   ]
  },
  {
   "cell_type": "code",
   "execution_count": 23,
   "metadata": {},
   "outputs": [
    {
     "name": "stdout",
     "output_type": "stream",
     "text": [
      " Ans is kamal\n",
      " Ans is pandey\n",
      " Ans is 21\n",
      " Ans is single\n",
      " Ans is ['A', 'B', 'C']\n"
     ]
    }
   ],
   "source": [
    "for y in person.values():#formatting values\n",
    "    print(f' Ans is {y}')"
   ]
  },
  {
   "cell_type": "code",
   "execution_count": 37,
   "metadata": {},
   "outputs": [],
   "source": [
    "car={'model':'Toyota','color':'black'}"
   ]
  },
  {
   "cell_type": "code",
   "execution_count": 38,
   "metadata": {},
   "outputs": [
    {
     "name": "stdout",
     "output_type": "stream",
     "text": [
      "{'model': 'Toyota', 'color': 'black'}\n"
     ]
    }
   ],
   "source": [
    "print(car)"
   ]
  },
  {
   "cell_type": "code",
   "execution_count": 39,
   "metadata": {},
   "outputs": [],
   "source": [
    "car.clear()#will erase the content of dictionary car"
   ]
  },
  {
   "cell_type": "code",
   "execution_count": 40,
   "metadata": {},
   "outputs": [
    {
     "name": "stdout",
     "output_type": "stream",
     "text": [
      "{}\n"
     ]
    }
   ],
   "source": [
    "print(car)"
   ]
  },
  {
   "cell_type": "code",
   "execution_count": 41,
   "metadata": {},
   "outputs": [],
   "source": [
    "car1={'model':'Nissan','color':'blue'}"
   ]
  },
  {
   "cell_type": "code",
   "execution_count": 43,
   "metadata": {},
   "outputs": [
    {
     "data": {
      "text/plain": [
       "'blue'"
      ]
     },
     "execution_count": 43,
     "metadata": {},
     "output_type": "execute_result"
    }
   ],
   "source": [
    "car1.pop('color')#will remove the particular key and returns its value"
   ]
  },
  {
   "cell_type": "code",
   "execution_count": 44,
   "metadata": {},
   "outputs": [
    {
     "name": "stdout",
     "output_type": "stream",
     "text": [
      "{'model': 'Nissan'}\n"
     ]
    }
   ],
   "source": [
    "print(car1\n",
    "     )"
   ]
  },
  {
   "cell_type": "code",
   "execution_count": 54,
   "metadata": {},
   "outputs": [],
   "source": [
    "vehicle1={'type':'SUV','model':'Toyota','color':'black'}#adding 2 dictionary together"
   ]
  },
  {
   "cell_type": "code",
   "execution_count": 55,
   "metadata": {},
   "outputs": [],
   "source": [
    "vehicle2={'type2':'plane','model2':'boeing','color2':'black'}"
   ]
  },
  {
   "cell_type": "code",
   "execution_count": 57,
   "metadata": {},
   "outputs": [
    {
     "name": "stdout",
     "output_type": "stream",
     "text": [
      "{'type': 'SUV', 'model': 'Toyota', 'color': 'black', 'type2': 'plane', 'model2': 'boeing', 'color2': 'black'}\n"
     ]
    }
   ],
   "source": [
    "print(vehicle1)"
   ]
  },
  {
   "cell_type": "code",
   "execution_count": null,
   "metadata": {},
   "outputs": [],
   "source": []
  }
 ],
 "metadata": {
  "kernelspec": {
   "display_name": "Python 3",
   "language": "python",
   "name": "python3"
  },
  "language_info": {
   "codemirror_mode": {
    "name": "ipython",
    "version": 3
   },
   "file_extension": ".py",
   "mimetype": "text/x-python",
   "name": "python",
   "nbconvert_exporter": "python",
   "pygments_lexer": "ipython3",
   "version": "3.8.3"
  }
 },
 "nbformat": 4,
 "nbformat_minor": 4
}
